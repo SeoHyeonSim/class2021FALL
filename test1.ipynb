{
  "nbformat": 4,
  "nbformat_minor": 0,
  "metadata": {
    "colab": {
      "name": "test.ipynb",
      "provenance": [],
      "authorship_tag": "ABX9TyNyNgukYsKvRus6+yE/6B+0",
      "include_colab_link": true
    },
    "kernelspec": {
      "name": "python3",
      "display_name": "Python 3"
    },
    "language_info": {
      "name": "python"
    }
  },
  "cells": [
    {
      "cell_type": "markdown",
      "metadata": {
        "id": "view-in-github",
        "colab_type": "text"
      },
      "source": [
        "<a href=\"https://colab.research.google.com/github/SeoHyeonSim/class2021FALL/blob/main/test1.ipynb\" target=\"_parent\"><img src=\"https://colab.research.google.com/assets/colab-badge.svg\" alt=\"Open In Colab\"/></a>"
      ]
    },
    {
      "cell_type": "markdown",
      "metadata": {
        "id": "On8dxaqd8YS6"
      },
      "source": [
        "제일 처음해보는 코딩입니다. "
      ]
    },
    {
      "cell_type": "code",
      "metadata": {
        "colab": {
          "base_uri": "https://localhost:8080/"
        },
        "id": "q-DF5KR393uC",
        "outputId": "9ae73750-9568-44fe-84d5-af3f45b60396"
      },
      "source": [
        "a=1\n",
        "b= 'hello'\n",
        "c= 1.1\n",
        "d= [1, 'abc', 2.1]\n",
        "e = {\"apple\":\"red fruit\", \"banana\":\"yello fruit\"}\n",
        "#print(a)\n",
        "#print(b)\n",
        "#print(type(a))\n",
        "#print(type(b))\n",
        "#print(type(c))\n",
        "#print(type(d))\n",
        "\n",
        "print(b[0])\n",
        "print(b[0:2])\n",
        "print(d[2])\n",
        "print(d[1][1])\n",
        "\n",
        "print(type(e))\n",
        "\n",
        "print(e[\"apple\"])\n"
      ],
      "execution_count": 11,
      "outputs": [
        {
          "output_type": "stream",
          "name": "stdout",
          "text": [
            "h\n",
            "he\n",
            "2.1\n",
            "b\n",
            "<class 'dict'>\n",
            "red fruit\n"
          ]
        }
      ]
    }
  ]
}